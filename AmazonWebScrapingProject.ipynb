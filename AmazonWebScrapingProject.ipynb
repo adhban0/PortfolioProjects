{
 "cells": [
  {
   "cell_type": "markdown",
   "id": "0db739d4-b63e-4d73-a9fb-68577cfc9835",
   "metadata": {},
   "source": [
    "# Scraping data from Amazon products"
   ]
  },
  {
   "cell_type": "markdown",
   "id": "456e8112-ae17-4b70-a7e7-9fae5e40481d",
   "metadata": {},
   "source": [
    "## Importing libraries"
   ]
  },
  {
   "cell_type": "code",
   "execution_count": 1,
   "id": "8cd35505-153a-408b-843d-0e89559c15bc",
   "metadata": {},
   "outputs": [],
   "source": [
    "from bs4 import BeautifulSoup\n",
    "import requests\n",
    "import datetime\n",
    "import time\n",
    "import csv"
   ]
  },
  {
   "cell_type": "markdown",
   "id": "2aac1b91-0421-4f63-9ec1-7f166c5351ea",
   "metadata": {},
   "source": [
    "## Creating the csv file and inserting the headers"
   ]
  },
  {
   "cell_type": "code",
   "execution_count": 2,
   "id": "6b6fea47-5bb8-4af8-b11a-828967dbd284",
   "metadata": {},
   "outputs": [],
   "source": [
    "header = ['Title','Description','Rating','Image','Date Scraped']\n",
    "with open(r'C:\\Users\\hp\\Desktop\\Python\\AmazonWebScrapingDataset.csv','w',newline='',encoding='UTF8') as f:\n",
    "    writer = csv.writer(f)\n",
    "    writer.writerow(header)"
   ]
  },
  {
   "cell_type": "markdown",
   "id": "ae791d3d-ab03-4a35-b211-d870265085af",
   "metadata": {},
   "source": [
    "## Creating the scraping function\n",
    "**1. Connecting to the website**\n",
    "**2. Scraping 4 product properties**\n",
    "**3. Inserting the properties to the csv file**"
   ]
  },
  {
   "cell_type": "code",
   "execution_count": 5,
   "id": "1fe9f464-19cb-4fa7-b266-135c83dab0b7",
   "metadata": {},
   "outputs": [],
   "source": [
    "def add_to_dataset(url):\n",
    "    url = url\n",
    "    headers = {\"User-Agent\": \"Mozilla/5.0 (Windows NT 10.0; Win64; x64) AppleWebKit/537.36 (KHTML, like Gecko) Chrome/78.0.3904.108 Safari/537.36\", \"Accept-Encoding\":\"gzip, deflate\", \"Accept\":\"text/html,application/xhtml+xml,application/xml;q=0.9,*/*;q=0.8\", \"DNT\":\"1\",\"Connection\":\"close\", \"Upgrade-Insecure-Requests\":\"1\"}\n",
    "    page = requests.get(url, headers=headers)\n",
    "    soup0 = BeautifulSoup(page.content,'html.parser')\n",
    "    soup1 =BeautifulSoup(soup0.prettify(),'html.parser')\n",
    "    title = soup1.find('span', id = \"productTitle\").text.strip()\n",
    "    rating = soup1.find('span', class_ = 'a-size-base a-color-base').text.strip()\n",
    "    description = soup1.find('span', class_ = 'a-list-item a-size-base a-color-base').text.strip()\n",
    "    image =  soup1.find('img',id = 'landingImage')\n",
    "    image_src = image['src']\n",
    "    date = datetime.date.today()\n",
    "    data = [title,description,rating,image_src,date]\n",
    "    with open(r'C:\\Users\\hp\\Desktop\\Python\\AmazonWebScrapingDataset.csv','a+',newline='',encoding='UTF8') as f:\n",
    "        writer = csv.writer(f)\n",
    "        writer.writerow(data)"
   ]
  },
  {
   "cell_type": "markdown",
   "id": "2ed7ef08-1f5c-4f3e-97b0-118d4eee4b32",
   "metadata": {},
   "source": [
    "## Adding multiple products to the dataset and using a timer for automation"
   ]
  },
  {
   "cell_type": "code",
   "execution_count": null,
   "id": "553be5ac-b4c9-4afe-9d25-11a871cf4158",
   "metadata": {},
   "outputs": [],
   "source": [
    "URLs = ['https://www.amazon.com/dp/B0BS4FTQ99/ref=syn_sd_onsite_desktop_0?ie=UTF8&psc=1&pd_rd_plhdr=t&aref=Vt76EHTDUK','https://www.amazon.com/dp/B07NWZ6PBF/?_encoding=UTF8&ref_=sbx_be_s_sparkle_ssd_tt','https://www.amazon.com/dp/B0D6G6L598/?_encoding=UTF8&ref_=sbx_be_s_sparkle_ssd_tt']\n",
    "while (True):\n",
    "    for url in URLs:\n",
    "        add_to_dataset(url)\n",
    "    time.sleep(60)"
   ]
  }
 ],
 "metadata": {
  "kernelspec": {
   "display_name": "Python 3 (ipykernel)",
   "language": "python",
   "name": "python3"
  },
  "language_info": {
   "codemirror_mode": {
    "name": "ipython",
    "version": 3
   },
   "file_extension": ".py",
   "mimetype": "text/x-python",
   "name": "python",
   "nbconvert_exporter": "python",
   "pygments_lexer": "ipython3",
   "version": "3.12.7"
  }
 },
 "nbformat": 4,
 "nbformat_minor": 5
}
